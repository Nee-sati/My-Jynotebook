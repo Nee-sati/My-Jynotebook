{
 "cells": [
  {
   "cell_type": "markdown",
   "metadata": {
    "collapsed": true
   },
   "source": [
    "#My Jupyter Notebook on IBM Watson Studio"
   ]
  },
  {
   "cell_type": "markdown",
   "metadata": {},
   "source": [
    "**NEERAJ SATI**\n",
    "\n",
    "Data Scientist"
   ]
  },
  {
   "cell_type": "markdown",
   "metadata": {},
   "source": [
    "*I am intrested in data science because the way data scientist play with data and dig out useful insites and predictions this intrigues me to learn data science method or technique so that i can also enjoy this play of processing the data and comes out with valuable insites and predictions. Also in future, data science has huge scope in variety of industries so it can provides me a good stable future along with my intrest.*"
   ]
  },
  {
   "cell_type": "markdown",
   "metadata": {},
   "source": [
    "### My code is about having cube of a input number"
   ]
  },
  {
   "cell_type": "code",
   "execution_count": null,
   "metadata": {
    "scrolled": false
   },
   "outputs": [],
   "source": [
    "def cube(a):\n",
    "    c = a*a*a\n",
    "    return c\n",
    "b = int(input(\"enter any number\"))\n",
    "x = cube(b) \n",
    "print(x)"
   ]
  },
  {
   "cell_type": "markdown",
   "metadata": {},
   "source": [
    "|Name|Age|Gender|\n",
    "|----|----|----|\n",
    "|Peter|56|M|\n",
    "|Sam|25|M|\n",
    "|Sofia|36|F|\n",
    "\n",
    "1. Peter entered number 8 \n",
    "2. Sam entered number 54\n",
    "3. Sofia entered number 23\n",
    "\n",
    "- Peter gets 512\n",
    "- Sam gets 157464\n",
    "- Sofia gets 12167\n",
    "\n",
    "You can check cubed numbers are correct or not from online cube calculator here is the link https://www.calculatorsoup.com/calculators/algebra/cube-calculator.php\n",
    "\n",
    "\n",
    "\n"
   ]
  },
  {
   "cell_type": "code",
   "execution_count": null,
   "metadata": {},
   "outputs": [],
   "source": []
  }
 ],
 "metadata": {
  "kernelspec": {
   "display_name": "Python 3.9",
   "language": "python",
   "name": "python3"
  },
  "language_info": {
   "codemirror_mode": {
    "name": "ipython",
    "version": 3
   },
   "file_extension": ".py",
   "mimetype": "text/x-python",
   "name": "python",
   "nbconvert_exporter": "python",
   "pygments_lexer": "ipython3",
   "version": "3.9.12"
  }
 },
 "nbformat": 4,
 "nbformat_minor": 1
}
